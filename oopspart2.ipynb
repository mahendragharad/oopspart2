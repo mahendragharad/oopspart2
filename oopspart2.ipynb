{
  "nbformat": 4,
  "nbformat_minor": 0,
  "metadata": {
    "colab": {
      "provenance": []
    },
    "kernelspec": {
      "name": "python3",
      "display_name": "Python 3"
    },
    "language_info": {
      "name": "python"
    }
  },
  "cells": [
    {
      "cell_type": "markdown",
      "source": [
        "**By using 'self' we can point any kind method and any kind of instances to class directly**"
      ],
      "metadata": {
        "id": "MD3piel7295R"
      }
    },
    {
      "cell_type": "code",
      "execution_count": null,
      "metadata": {
        "id": "5LzeAxh3r8Ua"
      },
      "outputs": [],
      "source": [
        "class decorator :\n",
        "  \n",
        "  @staticmethod\n",
        "  def func1(self) :\n",
        "    print(\"This is the first function \")\n",
        "\n",
        "  def func2(self):\n",
        "    print(\"This is the second method\")"
      ]
    },
    {
      "cell_type": "code",
      "source": [
        "obj1 = decorator()"
      ],
      "metadata": {
        "id": "YucwiqI9zxik"
      },
      "execution_count": null,
      "outputs": []
    },
    {
      "cell_type": "code",
      "source": [
        "obj1.func1()"
      ],
      "metadata": {
        "colab": {
          "base_uri": "https://localhost:8080/",
          "height": 165
        },
        "id": "AiL7PxQK0ENx",
        "outputId": "a5746882-ff0d-42b6-cf65-1e836587f399"
      },
      "execution_count": null,
      "outputs": [
        {
          "output_type": "error",
          "ename": "TypeError",
          "evalue": "ignored",
          "traceback": [
            "\u001b[0;31m---------------------------------------------------------------------------\u001b[0m",
            "\u001b[0;31mTypeError\u001b[0m                                 Traceback (most recent call last)",
            "\u001b[0;32m<ipython-input-13-af540fd97e27>\u001b[0m in \u001b[0;36m<module>\u001b[0;34m\u001b[0m\n\u001b[0;32m----> 1\u001b[0;31m \u001b[0mobj1\u001b[0m\u001b[0;34m.\u001b[0m\u001b[0mfunc1\u001b[0m\u001b[0;34m(\u001b[0m\u001b[0;34m)\u001b[0m\u001b[0;34m\u001b[0m\u001b[0;34m\u001b[0m\u001b[0m\n\u001b[0m",
            "\u001b[0;31mTypeError\u001b[0m: func1() missing 1 required positional argument: 'self'"
          ]
        }
      ]
    },
    {
      "cell_type": "code",
      "source": [
        "obj1.func2()"
      ],
      "metadata": {
        "colab": {
          "base_uri": "https://localhost:8080/"
        },
        "id": "tEf0IbXu0Gkw",
        "outputId": "a41f64ff-34f8-4504-9cb9-810ea985c508"
      },
      "execution_count": null,
      "outputs": [
        {
          "output_type": "stream",
          "name": "stdout",
          "text": [
            "This is the second method\n"
          ]
        }
      ]
    },
    {
      "cell_type": "code",
      "source": [
        "class decorator :\n",
        "  \n",
        "  @staticmethod\n",
        "  def func1(self) :\n",
        "    print(\"This is the first function \")\n",
        "\n",
        "  def func2(self):\n",
        "    print(\"This is the second method\")"
      ],
      "metadata": {
        "id": "XGH7H64G0MjP"
      },
      "execution_count": null,
      "outputs": []
    },
    {
      "cell_type": "code",
      "source": [
        "decorator.func1()"
      ],
      "metadata": {
        "colab": {
          "base_uri": "https://localhost:8080/",
          "height": 165
        },
        "id": "D8kk66Be08j4",
        "outputId": "4007f82f-4bec-4763-d479-aa5cfea39c85"
      },
      "execution_count": null,
      "outputs": [
        {
          "output_type": "error",
          "ename": "TypeError",
          "evalue": "ignored",
          "traceback": [
            "\u001b[0;31m---------------------------------------------------------------------------\u001b[0m",
            "\u001b[0;31mTypeError\u001b[0m                                 Traceback (most recent call last)",
            "\u001b[0;32m<ipython-input-14-af6cdc843e88>\u001b[0m in \u001b[0;36m<module>\u001b[0;34m\u001b[0m\n\u001b[0;32m----> 1\u001b[0;31m \u001b[0mdecorator\u001b[0m\u001b[0;34m.\u001b[0m\u001b[0mfunc1\u001b[0m\u001b[0;34m(\u001b[0m\u001b[0;34m)\u001b[0m\u001b[0;34m\u001b[0m\u001b[0;34m\u001b[0m\u001b[0m\n\u001b[0m",
            "\u001b[0;31mTypeError\u001b[0m: func1() missing 1 required positional argument: 'self'"
          ]
        }
      ]
    },
    {
      "cell_type": "code",
      "source": [
        "class decorator :\n",
        "  \n",
        "  @staticmethod\n",
        "  # When we noted some method with '@staticmethod' then we are not \n",
        "  # able to use self method\n",
        "  \n",
        "  def func1() :\n",
        "    print(\"This is the first function \")\n",
        "\n",
        "  def func2():\n",
        "    print(\"This is the second method\")"
      ],
      "metadata": {
        "id": "8-QVecXz1uOX"
      },
      "execution_count": null,
      "outputs": []
    },
    {
      "cell_type": "code",
      "source": [
        "#  without creating object we are able to access the methods inside the class in\n",
        "# in the following way \n",
        "decorator.func1()"
      ],
      "metadata": {
        "colab": {
          "base_uri": "https://localhost:8080/"
        },
        "id": "3pR_p9qE1AaY",
        "outputId": "a94370d1-d1e1-4193-f4c8-09e329d8c397"
      },
      "execution_count": null,
      "outputs": [
        {
          "output_type": "stream",
          "name": "stdout",
          "text": [
            "This is the first function \n"
          ]
        }
      ]
    },
    {
      "cell_type": "code",
      "source": [
        "decorator.func2()"
      ],
      "metadata": {
        "colab": {
          "base_uri": "https://localhost:8080/"
        },
        "id": "iIbRGsNO10U4",
        "outputId": "5a2a722a-c7ff-430d-ff90-f14f3cc3f6ab"
      },
      "execution_count": null,
      "outputs": [
        {
          "output_type": "stream",
          "name": "stdout",
          "text": [
            "This is the second method\n"
          ]
        }
      ]
    },
    {
      "cell_type": "code",
      "source": [
        "class calculator :\n",
        "  \n",
        "  def __init__(self , a , b ):\n",
        "    self.a = a\n",
        "    self.b = b \n",
        "\n",
        "  def add(self) :\n",
        "    return self.a+self.b \n",
        "\n",
        "class multiplication :\n",
        "  def mul(self) :\n",
        "    return self.a*self.b \n",
        "\n",
        "class division :\n",
        "  def add(self) :\n",
        "    return self.a+self.b \n",
        "\n",
        "class substraction :\n",
        "  def add(self) :\n",
        "    return self.a+self.b \n",
        "\n",
        "class calculator2(multiplication , division , substraction ) :\n",
        "  def last_class(self) :\n",
        "    return \"this is the child class\""
      ],
      "metadata": {
        "id": "XtrydnkC14Tw"
      },
      "execution_count": null,
      "outputs": []
    },
    {
      "cell_type": "code",
      "source": [
        "obj3 = calculator2(10,23)"
      ],
      "metadata": {
        "colab": {
          "base_uri": "https://localhost:8080/",
          "height": 165
        },
        "id": "qOH61nTh8g7H",
        "outputId": "62b3939d-e797-4879-f1a1-16298905426e"
      },
      "execution_count": null,
      "outputs": [
        {
          "output_type": "error",
          "ename": "TypeError",
          "evalue": "ignored",
          "traceback": [
            "\u001b[0;31m---------------------------------------------------------------------------\u001b[0m",
            "\u001b[0;31mTypeError\u001b[0m                                 Traceback (most recent call last)",
            "\u001b[0;32m<ipython-input-32-6fd21a3df6ff>\u001b[0m in \u001b[0;36m<module>\u001b[0;34m\u001b[0m\n\u001b[0;32m----> 1\u001b[0;31m \u001b[0mobj3\u001b[0m \u001b[0;34m=\u001b[0m \u001b[0mcalculator2\u001b[0m\u001b[0;34m(\u001b[0m\u001b[0;36m10\u001b[0m\u001b[0;34m,\u001b[0m\u001b[0;36m23\u001b[0m\u001b[0;34m)\u001b[0m\u001b[0;34m\u001b[0m\u001b[0;34m\u001b[0m\u001b[0m\n\u001b[0m",
            "\u001b[0;31mTypeError\u001b[0m: calculator2() takes no arguments"
          ]
        }
      ]
    },
    {
      "cell_type": "code",
      "source": [
        "obj3.mul()"
      ],
      "metadata": {
        "colab": {
          "base_uri": "https://localhost:8080/",
          "height": 287
        },
        "id": "rntxRq168pd-",
        "outputId": "744f3430-2863-4961-b828-a6e1c6798d20"
      },
      "execution_count": null,
      "outputs": [
        {
          "output_type": "error",
          "ename": "AttributeError",
          "evalue": "ignored",
          "traceback": [
            "\u001b[0;31m---------------------------------------------------------------------------\u001b[0m",
            "\u001b[0;31mAttributeError\u001b[0m                            Traceback (most recent call last)",
            "\u001b[0;32m<ipython-input-28-7c67f2ad7c73>\u001b[0m in \u001b[0;36m<module>\u001b[0;34m\u001b[0m\n\u001b[0;32m----> 1\u001b[0;31m \u001b[0mobj3\u001b[0m\u001b[0;34m.\u001b[0m\u001b[0mmul\u001b[0m\u001b[0;34m(\u001b[0m\u001b[0;34m)\u001b[0m\u001b[0;34m\u001b[0m\u001b[0;34m\u001b[0m\u001b[0m\n\u001b[0m",
            "\u001b[0;32m<ipython-input-26-f00ad8bb73a4>\u001b[0m in \u001b[0;36mmul\u001b[0;34m(self)\u001b[0m\n\u001b[1;32m     11\u001b[0m \u001b[0;32mclass\u001b[0m \u001b[0mmultiplication\u001b[0m \u001b[0;34m:\u001b[0m\u001b[0;34m\u001b[0m\u001b[0;34m\u001b[0m\u001b[0m\n\u001b[1;32m     12\u001b[0m   \u001b[0;32mdef\u001b[0m \u001b[0mmul\u001b[0m\u001b[0;34m(\u001b[0m\u001b[0mself\u001b[0m\u001b[0;34m)\u001b[0m \u001b[0;34m:\u001b[0m\u001b[0;34m\u001b[0m\u001b[0;34m\u001b[0m\u001b[0m\n\u001b[0;32m---> 13\u001b[0;31m     \u001b[0;32mreturn\u001b[0m \u001b[0mself\u001b[0m\u001b[0;34m.\u001b[0m\u001b[0ma\u001b[0m\u001b[0;34m*\u001b[0m\u001b[0mself\u001b[0m\u001b[0;34m.\u001b[0m\u001b[0mb\u001b[0m\u001b[0;34m\u001b[0m\u001b[0;34m\u001b[0m\u001b[0m\n\u001b[0m\u001b[1;32m     14\u001b[0m \u001b[0;34m\u001b[0m\u001b[0m\n\u001b[1;32m     15\u001b[0m \u001b[0;32mclass\u001b[0m \u001b[0mdivision\u001b[0m \u001b[0;34m:\u001b[0m\u001b[0;34m\u001b[0m\u001b[0;34m\u001b[0m\u001b[0m\n",
            "\u001b[0;31mAttributeError\u001b[0m: 'calculator2' object has no attribute 'a'"
          ]
        }
      ]
    },
    {
      "cell_type": "code",
      "source": [
        "# Method Overriding \n",
        "\n",
        "class class1 :\n",
        "  \n",
        "  def test(self) :\n",
        "    print(\"this is class1\")\n",
        "\n",
        "class class2(class1) :\n",
        "  \n",
        "  def test(self) :\n",
        "    print(\"this is class2\")\n",
        "\n",
        "class class3(class2) :\n",
        "\n",
        "  def test(self):\n",
        "    print(\"this is class3\")\n",
        "\n",
        "# In this case it is always going to call last one (child_class)\n",
        "# In case we redefine same functionality multiple times and it call\n",
        "# last one then this is called method overriding\n",
        "\n",
        "# In method overrriding the number of parameter and name of function is \n",
        "# going to be same just defination is going to be changed\n"
      ],
      "metadata": {
        "id": "1ZzBBqnt8veW"
      },
      "execution_count": null,
      "outputs": []
    },
    {
      "cell_type": "code",
      "source": [
        "obj5 = class3()"
      ],
      "metadata": {
        "id": "yETrZ9VZBLF2"
      },
      "execution_count": null,
      "outputs": []
    },
    {
      "cell_type": "code",
      "source": [
        "obj5.test()"
      ],
      "metadata": {
        "colab": {
          "base_uri": "https://localhost:8080/"
        },
        "id": "j6c4OXrdBOlu",
        "outputId": "00e2b08d-de88-4cb7-a60a-58af4d61cc9b"
      },
      "execution_count": null,
      "outputs": [
        {
          "output_type": "stream",
          "name": "stdout",
          "text": [
            "this is class3\n"
          ]
        }
      ]
    },
    {
      "cell_type": "code",
      "source": [
        "# Method overloading \n",
        "# Using same method name with different type of parameter\n",
        "\n",
        "class M_Overloading :\n",
        "\n",
        "  def Method (self , a = 8 , b = 9 , c = 90 ):\n",
        "    return a,b,c"
      ],
      "metadata": {
        "id": "covQbIEyBTb-"
      },
      "execution_count": null,
      "outputs": []
    },
    {
      "cell_type": "code",
      "source": [
        "obj5 = M_Overloading()"
      ],
      "metadata": {
        "id": "g5RJqoMxDEom"
      },
      "execution_count": null,
      "outputs": []
    },
    {
      "cell_type": "code",
      "source": [
        "obj5.Method()"
      ],
      "metadata": {
        "colab": {
          "base_uri": "https://localhost:8080/"
        },
        "id": "3qhFpixzDLcT",
        "outputId": "665f922a-1f03-4681-a10d-673c95cbc4a7"
      },
      "execution_count": null,
      "outputs": [
        {
          "output_type": "execute_result",
          "data": {
            "text/plain": [
              "(8, 9, 90)"
            ]
          },
          "metadata": {},
          "execution_count": 38
        }
      ]
    },
    {
      "cell_type": "code",
      "source": [
        "obj5.Method(\"mahendra\")"
      ],
      "metadata": {
        "colab": {
          "base_uri": "https://localhost:8080/"
        },
        "id": "6gW1QqzLDPJ1",
        "outputId": "46686b9e-78d6-4f59-ee3c-3cd0dd31df2c"
      },
      "execution_count": null,
      "outputs": [
        {
          "output_type": "execute_result",
          "data": {
            "text/plain": [
              "('mahendra', 9, 90)"
            ]
          },
          "metadata": {},
          "execution_count": 39
        }
      ]
    },
    {
      "cell_type": "code",
      "source": [
        "obj5.Method(\"mahendra\" , \"santoshrao\" , \"gharad\")"
      ],
      "metadata": {
        "colab": {
          "base_uri": "https://localhost:8080/"
        },
        "id": "cYTple4vDSEl",
        "outputId": "2d4d8702-9134-494c-db24-1980c09aa51a"
      },
      "execution_count": null,
      "outputs": [
        {
          "output_type": "execute_result",
          "data": {
            "text/plain": [
              "('mahendra', 'santoshrao', 'gharad')"
            ]
          },
          "metadata": {},
          "execution_count": 40
        }
      ]
    },
    {
      "cell_type": "code",
      "source": [
        "obj5.Method()"
      ],
      "metadata": {
        "colab": {
          "base_uri": "https://localhost:8080/"
        },
        "id": "jqYwD9rpDZet",
        "outputId": "e7f4eb2a-e3ef-4790-f529-8a410159c974"
      },
      "execution_count": null,
      "outputs": [
        {
          "output_type": "execute_result",
          "data": {
            "text/plain": [
              "(8, 9, 90)"
            ]
          },
          "metadata": {},
          "execution_count": 41
        }
      ]
    },
    {
      "cell_type": "code",
      "source": [
        "# polymorphism\n",
        "# same inntity but behaviour is different in different different condition \n",
        "\n",
        "class class1 :\n",
        "  def func1(self) :\n",
        "     return \"hellow this is class1 \"\n",
        "\n",
        "class class2 :\n",
        "  def func1(self) :\n",
        "    return \"Hellow this is class2\"\n",
        "\n",
        "class class3 :\n",
        "  def func1(self) :\n",
        "    return \"Hellow this is class3\""
      ],
      "metadata": {
        "id": "QFoqeGjYDbmt"
      },
      "execution_count": null,
      "outputs": []
    },
    {
      "cell_type": "code",
      "source": [
        "object1 = [ class1() , class2() , class3()]"
      ],
      "metadata": {
        "id": "eLM_GffTJiaV"
      },
      "execution_count": null,
      "outputs": []
    },
    {
      "cell_type": "code",
      "source": [
        "for i in object1 :\n",
        "  print(i.func1())"
      ],
      "metadata": {
        "colab": {
          "base_uri": "https://localhost:8080/"
        },
        "id": "bInsnuHIKign",
        "outputId": "9cff8847-e797-42be-f7f5-eaad5375e3dc"
      },
      "execution_count": null,
      "outputs": [
        {
          "output_type": "stream",
          "name": "stdout",
          "text": [
            "hellow this is class1 \n",
            "Hellow this is class2\n",
            "Hellow this is class3\n"
          ]
        }
      ]
    },
    {
      "cell_type": "code",
      "source": [
        "#q1  : create a file class for reading a data from one of the file with \n",
        "# a method name read and write\n",
        "\n",
        "# use loggiing , exception handling \n",
        "\n",
        "import logging\n",
        "\n",
        "logging.basicConfig(filename='file_class.log', level=logging.DEBUG ,\n",
        "filemode='w',format=\"%(asctime)s %(levelname)s %(message)s\")\n",
        "\n",
        "class file : \n",
        "    def __init__(self , filename)  :\n",
        "        self.filename = filename \n",
        "                    \n",
        "    def read(self):\n",
        "        logging.info(\"This is a start of read operation \" )\n",
        "        try :\n",
        "            logging.info(\"i am inside try block of read method \")\n",
        "            with open(self.filename , 'r') as file :\n",
        "                data = file.read()\n",
        "                logging.info(\"I am able to read the file \")\n",
        "                return data\n",
        "        except FileNotFoundError as e :\n",
        "            #print(e)\n",
        "            logging.error(\"there is some issue with  the read file operation\")\n",
        "            logging.error(e)\n",
        "        \n",
        "    def write(self,data1):\n",
        "        try: \n",
        "            logging.info(\"i am inside a try to write fun\")\n",
        "            with open(self.filename, 'a') as file :\n",
        "                data = file.write(data1) \n",
        "                logging.info(\"i am able to write a data into file succesfully\")\n",
        "        except Exception as e : \n",
        "            #print(e)\n",
        "            logging.error(\"there is an issue with write ops\")\n",
        "            logging.error(e)\n",
        "\n",
        "obj2 = file(\"mahendra.txt9\")\n",
        "obj2.write(\"mahendra_gharad_patil\")\n",
        "obj2.read()\n",
        "\n",
        "    \n",
        "    \n"
      ],
      "metadata": {
        "id": "4eOkJ8_rKtn0"
      },
      "execution_count": null,
      "outputs": []
    },
    {
      "cell_type": "code",
      "source": [
        "# q1 : Create your own class to perform a list search operation \n",
        "# q2 : create a class for dict new element addition\n",
        "# q3 : create a class for tuple data extraction operation\n",
        "# q4 : Create a class to implement all insert , update , delete operation for mysql\n",
        "# q5 : create a class to implement insert , uupdate and delete in monngo db \n",
        "# q6 : create a class to perform append and delete operation in a file and inherit it in child class \n",
        "# q7 : create a class to import a data into file from mongo db \n",
        "# q8 : Create a class to build a calculator funcnalities addition , subtraction , multiplication ,div , log , exponenet , power \n",
        "# q9 : create a class method to find a time and space complexity of any function\n",
        "# q10: create a class to do a bulk uplaod of a file in mysql \n",
        "# q11: give 10 different example of ploymorphism , encaptulation ,data  abstraction , overloading , ovverriding , multiple inheritance\n",
        "# q12: Try to explore a meaning of \"-> \" this sinnature in python \n",
        "\n",
        "# you have to complete this task before next saturday (21st of jan 2023) class and send it to me : sudhanshu@ineuron.ai with up and running code\n",
        "\n",
        "# class timeinig for 21st and 22nd will be 10 AM IST , only for one week as i am traveling (sat and sun ) after that it will be \n",
        "# same as per our regular schedule "
      ],
      "metadata": {
        "id": "eoLfCG2wE4hy"
      },
      "execution_count": null,
      "outputs": []
    }
  ]
}